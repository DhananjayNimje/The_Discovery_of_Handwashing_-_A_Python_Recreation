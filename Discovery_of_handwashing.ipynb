{
 "cells": [
  {
   "cell_type": "markdown",
   "id": "0dde8b77",
   "metadata": {},
   "source": [
    "## Task 3 - The Discovery of Handwashing – A Python Recreation"
   ]
  },
  {
   "cell_type": "markdown",
   "id": "613b7032",
   "metadata": {},
   "source": [
    "Dr. Ignaz Semmelweis’s discovery of the importance of handwashing in hospitals revolutionized healthcare and significantly reduced mortality rates. In this project, we will recreate Dr. Semmelweis’s discovery using Python. We will read the historical dataset, explore the relationship between variables over different periods, perform calculations to compare mortality rates before and after handwashing implementation, and visualize the impact of handwashing on reducing mortality rates."
   ]
  },
  {
   "cell_type": "markdown",
   "id": "88b3e513",
   "metadata": {},
   "source": [
    "### Objective:\n",
    "Recreate Dr. Ignaz Semmelweis’s discovery of the importance of handwashing in hospitals using Python."
   ]
  },
  {
   "cell_type": "markdown",
   "id": "5d8f5f5a",
   "metadata": {},
   "source": [
    "### 1. Analysis on Yearly Data\n",
    "#### Step 1: Importing the Necessary libraries"
   ]
  },
  {
   "cell_type": "code",
   "execution_count": 1,
   "id": "7c18c939",
   "metadata": {},
   "outputs": [],
   "source": [
    "import pandas as pd\n",
    "import numpy as np\n",
    "import matplotlib.pyplot as plt\n",
    "%matplotlib inline"
   ]
  },
  {
   "cell_type": "markdown",
   "id": "e5a73b12",
   "metadata": {},
   "source": [
    "#### Step 2: Data Loading\n",
    "Start by reading the dataset and displaying the records to understand its structure. This step involves loading the data into a Pandas DataFrame and checking the first few rows to get a sense of the data."
   ]
  },
  {
   "cell_type": "code",
   "execution_count": 2,
   "id": "cbd481eb",
   "metadata": {},
   "outputs": [
    {
     "data": {
      "text/html": [
       "<div>\n",
       "<style scoped>\n",
       "    .dataframe tbody tr th:only-of-type {\n",
       "        vertical-align: middle;\n",
       "    }\n",
       "\n",
       "    .dataframe tbody tr th {\n",
       "        vertical-align: top;\n",
       "    }\n",
       "\n",
       "    .dataframe thead th {\n",
       "        text-align: right;\n",
       "    }\n",
       "</style>\n",
       "<table border=\"1\" class=\"dataframe\">\n",
       "  <thead>\n",
       "    <tr style=\"text-align: right;\">\n",
       "      <th></th>\n",
       "      <th>year</th>\n",
       "      <th>births</th>\n",
       "      <th>deaths</th>\n",
       "      <th>clinic</th>\n",
       "    </tr>\n",
       "  </thead>\n",
       "  <tbody>\n",
       "    <tr>\n",
       "      <th>0</th>\n",
       "      <td>1841</td>\n",
       "      <td>3036</td>\n",
       "      <td>237</td>\n",
       "      <td>clinic 1</td>\n",
       "    </tr>\n",
       "    <tr>\n",
       "      <th>1</th>\n",
       "      <td>1842</td>\n",
       "      <td>3287</td>\n",
       "      <td>518</td>\n",
       "      <td>clinic 1</td>\n",
       "    </tr>\n",
       "    <tr>\n",
       "      <th>2</th>\n",
       "      <td>1843</td>\n",
       "      <td>3060</td>\n",
       "      <td>274</td>\n",
       "      <td>clinic 1</td>\n",
       "    </tr>\n",
       "    <tr>\n",
       "      <th>3</th>\n",
       "      <td>1844</td>\n",
       "      <td>3157</td>\n",
       "      <td>260</td>\n",
       "      <td>clinic 1</td>\n",
       "    </tr>\n",
       "    <tr>\n",
       "      <th>4</th>\n",
       "      <td>1845</td>\n",
       "      <td>3492</td>\n",
       "      <td>241</td>\n",
       "      <td>clinic 1</td>\n",
       "    </tr>\n",
       "    <tr>\n",
       "      <th>5</th>\n",
       "      <td>1846</td>\n",
       "      <td>4010</td>\n",
       "      <td>459</td>\n",
       "      <td>clinic 1</td>\n",
       "    </tr>\n",
       "    <tr>\n",
       "      <th>6</th>\n",
       "      <td>1841</td>\n",
       "      <td>2442</td>\n",
       "      <td>86</td>\n",
       "      <td>clinic 2</td>\n",
       "    </tr>\n",
       "    <tr>\n",
       "      <th>7</th>\n",
       "      <td>1842</td>\n",
       "      <td>2659</td>\n",
       "      <td>202</td>\n",
       "      <td>clinic 2</td>\n",
       "    </tr>\n",
       "    <tr>\n",
       "      <th>8</th>\n",
       "      <td>1843</td>\n",
       "      <td>2739</td>\n",
       "      <td>164</td>\n",
       "      <td>clinic 2</td>\n",
       "    </tr>\n",
       "    <tr>\n",
       "      <th>9</th>\n",
       "      <td>1844</td>\n",
       "      <td>2956</td>\n",
       "      <td>68</td>\n",
       "      <td>clinic 2</td>\n",
       "    </tr>\n",
       "    <tr>\n",
       "      <th>10</th>\n",
       "      <td>1845</td>\n",
       "      <td>3241</td>\n",
       "      <td>66</td>\n",
       "      <td>clinic 2</td>\n",
       "    </tr>\n",
       "    <tr>\n",
       "      <th>11</th>\n",
       "      <td>1846</td>\n",
       "      <td>3754</td>\n",
       "      <td>105</td>\n",
       "      <td>clinic 2</td>\n",
       "    </tr>\n",
       "  </tbody>\n",
       "</table>\n",
       "</div>"
      ],
      "text/plain": [
       "    year  births  deaths    clinic\n",
       "0   1841    3036     237  clinic 1\n",
       "1   1842    3287     518  clinic 1\n",
       "2   1843    3060     274  clinic 1\n",
       "3   1844    3157     260  clinic 1\n",
       "4   1845    3492     241  clinic 1\n",
       "5   1846    4010     459  clinic 1\n",
       "6   1841    2442      86  clinic 2\n",
       "7   1842    2659     202  clinic 2\n",
       "8   1843    2739     164  clinic 2\n",
       "9   1844    2956      68  clinic 2\n",
       "10  1845    3241      66  clinic 2\n",
       "11  1846    3754     105  clinic 2"
      ]
     },
     "execution_count": 2,
     "metadata": {},
     "output_type": "execute_result"
    }
   ],
   "source": [
    "#Read the yearly dataset\n",
    "yearly_df = pd.read_csv(\"yearly_deaths_by_clinic.csv\")\n",
    "\n",
    "yearly_df"
   ]
  },
  {
   "cell_type": "markdown",
   "id": "611b1383",
   "metadata": {},
   "source": [
    "#### Step 3: Data Exploration\n",
    "Explore the relationship between variables over different periods. Focus on understanding the variables related to mortality rates and factors like handwashing."
   ]
  },
  {
   "cell_type": "code",
   "execution_count": 4,
   "id": "9fa1226d",
   "metadata": {},
   "outputs": [
    {
     "name": "stdout",
     "output_type": "stream",
     "text": [
      "<class 'pandas.core.frame.DataFrame'>\n",
      "RangeIndex: 12 entries, 0 to 11\n",
      "Data columns (total 4 columns):\n",
      " #   Column  Non-Null Count  Dtype \n",
      "---  ------  --------------  ----- \n",
      " 0   year    12 non-null     int64 \n",
      " 1   births  12 non-null     int64 \n",
      " 2   deaths  12 non-null     int64 \n",
      " 3   clinic  12 non-null     object\n",
      "dtypes: int64(3), object(1)\n",
      "memory usage: 512.0+ bytes\n"
     ]
    }
   ],
   "source": [
    "yearly_df.info()"
   ]
  },
  {
   "cell_type": "code",
   "execution_count": 5,
   "id": "ff964201",
   "metadata": {},
   "outputs": [
    {
     "data": {
      "text/plain": [
       "(12, 4)"
      ]
     },
     "execution_count": 5,
     "metadata": {},
     "output_type": "execute_result"
    }
   ],
   "source": [
    "yearly_df.shape"
   ]
  },
  {
   "cell_type": "code",
   "execution_count": 6,
   "id": "bf51457c",
   "metadata": {},
   "outputs": [
    {
     "data": {
      "text/plain": [
       "clinic\n",
       "clinic 1    1989\n",
       "clinic 2     691\n",
       "Name: deaths, dtype: int64"
      ]
     },
     "execution_count": 6,
     "metadata": {},
     "output_type": "execute_result"
    }
   ],
   "source": [
    "yearly_df.groupby(\"clinic\") [\"deaths\"].sum()"
   ]
  },
  {
   "cell_type": "markdown",
   "id": "2969e66d",
   "metadata": {},
   "source": [
    "#### Insights:\n",
    "The above results shows us the number of births and deaths in 2 clinics from the year 1841 till 1846. It's obvious that the number of deaths in clinic 1 is higher than that of clinic 2"
   ]
  },
  {
   "cell_type": "markdown",
   "id": "356704f8",
   "metadata": {},
   "source": [
    "#### Step 4: Data Analysis\n",
    "Perform calculations to create new variables comparing mortality rates before and after the implementation of handwashing. This will involve computing mortality rates and comparing them across different periods."
   ]
  },
  {
   "cell_type": "code",
   "execution_count": 7,
   "id": "e1354c6a",
   "metadata": {},
   "outputs": [
    {
     "data": {
      "text/html": [
       "<div>\n",
       "<style scoped>\n",
       "    .dataframe tbody tr th:only-of-type {\n",
       "        vertical-align: middle;\n",
       "    }\n",
       "\n",
       "    .dataframe tbody tr th {\n",
       "        vertical-align: top;\n",
       "    }\n",
       "\n",
       "    .dataframe thead th {\n",
       "        text-align: right;\n",
       "    }\n",
       "</style>\n",
       "<table border=\"1\" class=\"dataframe\">\n",
       "  <thead>\n",
       "    <tr style=\"text-align: right;\">\n",
       "      <th></th>\n",
       "      <th>year</th>\n",
       "      <th>births</th>\n",
       "      <th>deaths</th>\n",
       "      <th>clinic</th>\n",
       "      <th>Proportion of Deaths</th>\n",
       "    </tr>\n",
       "  </thead>\n",
       "  <tbody>\n",
       "    <tr>\n",
       "      <th>0</th>\n",
       "      <td>1841</td>\n",
       "      <td>3036</td>\n",
       "      <td>237</td>\n",
       "      <td>clinic 1</td>\n",
       "      <td>0.078063</td>\n",
       "    </tr>\n",
       "    <tr>\n",
       "      <th>1</th>\n",
       "      <td>1842</td>\n",
       "      <td>3287</td>\n",
       "      <td>518</td>\n",
       "      <td>clinic 1</td>\n",
       "      <td>0.157591</td>\n",
       "    </tr>\n",
       "    <tr>\n",
       "      <th>2</th>\n",
       "      <td>1843</td>\n",
       "      <td>3060</td>\n",
       "      <td>274</td>\n",
       "      <td>clinic 1</td>\n",
       "      <td>0.089542</td>\n",
       "    </tr>\n",
       "    <tr>\n",
       "      <th>3</th>\n",
       "      <td>1844</td>\n",
       "      <td>3157</td>\n",
       "      <td>260</td>\n",
       "      <td>clinic 1</td>\n",
       "      <td>0.082357</td>\n",
       "    </tr>\n",
       "    <tr>\n",
       "      <th>4</th>\n",
       "      <td>1845</td>\n",
       "      <td>3492</td>\n",
       "      <td>241</td>\n",
       "      <td>clinic 1</td>\n",
       "      <td>0.069015</td>\n",
       "    </tr>\n",
       "    <tr>\n",
       "      <th>5</th>\n",
       "      <td>1846</td>\n",
       "      <td>4010</td>\n",
       "      <td>459</td>\n",
       "      <td>clinic 1</td>\n",
       "      <td>0.114464</td>\n",
       "    </tr>\n",
       "    <tr>\n",
       "      <th>6</th>\n",
       "      <td>1841</td>\n",
       "      <td>2442</td>\n",
       "      <td>86</td>\n",
       "      <td>clinic 2</td>\n",
       "      <td>0.035217</td>\n",
       "    </tr>\n",
       "    <tr>\n",
       "      <th>7</th>\n",
       "      <td>1842</td>\n",
       "      <td>2659</td>\n",
       "      <td>202</td>\n",
       "      <td>clinic 2</td>\n",
       "      <td>0.075968</td>\n",
       "    </tr>\n",
       "    <tr>\n",
       "      <th>8</th>\n",
       "      <td>1843</td>\n",
       "      <td>2739</td>\n",
       "      <td>164</td>\n",
       "      <td>clinic 2</td>\n",
       "      <td>0.059876</td>\n",
       "    </tr>\n",
       "    <tr>\n",
       "      <th>9</th>\n",
       "      <td>1844</td>\n",
       "      <td>2956</td>\n",
       "      <td>68</td>\n",
       "      <td>clinic 2</td>\n",
       "      <td>0.023004</td>\n",
       "    </tr>\n",
       "    <tr>\n",
       "      <th>10</th>\n",
       "      <td>1845</td>\n",
       "      <td>3241</td>\n",
       "      <td>66</td>\n",
       "      <td>clinic 2</td>\n",
       "      <td>0.020364</td>\n",
       "    </tr>\n",
       "    <tr>\n",
       "      <th>11</th>\n",
       "      <td>1846</td>\n",
       "      <td>3754</td>\n",
       "      <td>105</td>\n",
       "      <td>clinic 2</td>\n",
       "      <td>0.027970</td>\n",
       "    </tr>\n",
       "  </tbody>\n",
       "</table>\n",
       "</div>"
      ],
      "text/plain": [
       "    year  births  deaths    clinic  Proportion of Deaths\n",
       "0   1841    3036     237  clinic 1              0.078063\n",
       "1   1842    3287     518  clinic 1              0.157591\n",
       "2   1843    3060     274  clinic 1              0.089542\n",
       "3   1844    3157     260  clinic 1              0.082357\n",
       "4   1845    3492     241  clinic 1              0.069015\n",
       "5   1846    4010     459  clinic 1              0.114464\n",
       "6   1841    2442      86  clinic 2              0.035217\n",
       "7   1842    2659     202  clinic 2              0.075968\n",
       "8   1843    2739     164  clinic 2              0.059876\n",
       "9   1844    2956      68  clinic 2              0.023004\n",
       "10  1845    3241      66  clinic 2              0.020364\n",
       "11  1846    3754     105  clinic 2              0.027970"
      ]
     },
     "execution_count": 7,
     "metadata": {},
     "output_type": "execute_result"
    }
   ],
   "source": [
    "#To make the analysis easier, we can calculate the proportion of deaths.\n",
    "yearly_df[\"Proportion of Deaths\"] = yearly_df[\"deaths\"] / yearly_df[\"births\"]\n",
    "yearly_df"
   ]
  },
  {
   "cell_type": "code",
   "execution_count": 8,
   "id": "00d5f037",
   "metadata": {},
   "outputs": [],
   "source": [
    "#Separate the dataset into 2 datasets, one for each clinic\n",
    "clinic_1 = yearly_df[yearly_df[\"clinic\"] == \"clinic 1\"]\n",
    "clinic_2 = yearly_df[yearly_df[\"clinic\"] == \"clinic 2\"]"
   ]
  },
  {
   "cell_type": "code",
   "execution_count": 9,
   "id": "492f05b5",
   "metadata": {},
   "outputs": [
    {
     "data": {
      "text/html": [
       "<div>\n",
       "<style scoped>\n",
       "    .dataframe tbody tr th:only-of-type {\n",
       "        vertical-align: middle;\n",
       "    }\n",
       "\n",
       "    .dataframe tbody tr th {\n",
       "        vertical-align: top;\n",
       "    }\n",
       "\n",
       "    .dataframe thead th {\n",
       "        text-align: right;\n",
       "    }\n",
       "</style>\n",
       "<table border=\"1\" class=\"dataframe\">\n",
       "  <thead>\n",
       "    <tr style=\"text-align: right;\">\n",
       "      <th></th>\n",
       "      <th>year</th>\n",
       "      <th>births</th>\n",
       "      <th>deaths</th>\n",
       "      <th>clinic</th>\n",
       "      <th>Proportion of Deaths</th>\n",
       "    </tr>\n",
       "  </thead>\n",
       "  <tbody>\n",
       "    <tr>\n",
       "      <th>0</th>\n",
       "      <td>1841</td>\n",
       "      <td>3036</td>\n",
       "      <td>237</td>\n",
       "      <td>clinic 1</td>\n",
       "      <td>0.078063</td>\n",
       "    </tr>\n",
       "    <tr>\n",
       "      <th>1</th>\n",
       "      <td>1842</td>\n",
       "      <td>3287</td>\n",
       "      <td>518</td>\n",
       "      <td>clinic 1</td>\n",
       "      <td>0.157591</td>\n",
       "    </tr>\n",
       "    <tr>\n",
       "      <th>2</th>\n",
       "      <td>1843</td>\n",
       "      <td>3060</td>\n",
       "      <td>274</td>\n",
       "      <td>clinic 1</td>\n",
       "      <td>0.089542</td>\n",
       "    </tr>\n",
       "    <tr>\n",
       "      <th>3</th>\n",
       "      <td>1844</td>\n",
       "      <td>3157</td>\n",
       "      <td>260</td>\n",
       "      <td>clinic 1</td>\n",
       "      <td>0.082357</td>\n",
       "    </tr>\n",
       "    <tr>\n",
       "      <th>4</th>\n",
       "      <td>1845</td>\n",
       "      <td>3492</td>\n",
       "      <td>241</td>\n",
       "      <td>clinic 1</td>\n",
       "      <td>0.069015</td>\n",
       "    </tr>\n",
       "    <tr>\n",
       "      <th>5</th>\n",
       "      <td>1846</td>\n",
       "      <td>4010</td>\n",
       "      <td>459</td>\n",
       "      <td>clinic 1</td>\n",
       "      <td>0.114464</td>\n",
       "    </tr>\n",
       "  </tbody>\n",
       "</table>\n",
       "</div>"
      ],
      "text/plain": [
       "   year  births  deaths    clinic  Proportion of Deaths\n",
       "0  1841    3036     237  clinic 1              0.078063\n",
       "1  1842    3287     518  clinic 1              0.157591\n",
       "2  1843    3060     274  clinic 1              0.089542\n",
       "3  1844    3157     260  clinic 1              0.082357\n",
       "4  1845    3492     241  clinic 1              0.069015\n",
       "5  1846    4010     459  clinic 1              0.114464"
      ]
     },
     "execution_count": 9,
     "metadata": {},
     "output_type": "execute_result"
    }
   ],
   "source": [
    "clinic_1"
   ]
  },
  {
   "cell_type": "code",
   "execution_count": 10,
   "id": "ec31f18e",
   "metadata": {},
   "outputs": [
    {
     "data": {
      "text/html": [
       "<div>\n",
       "<style scoped>\n",
       "    .dataframe tbody tr th:only-of-type {\n",
       "        vertical-align: middle;\n",
       "    }\n",
       "\n",
       "    .dataframe tbody tr th {\n",
       "        vertical-align: top;\n",
       "    }\n",
       "\n",
       "    .dataframe thead th {\n",
       "        text-align: right;\n",
       "    }\n",
       "</style>\n",
       "<table border=\"1\" class=\"dataframe\">\n",
       "  <thead>\n",
       "    <tr style=\"text-align: right;\">\n",
       "      <th></th>\n",
       "      <th>year</th>\n",
       "      <th>births</th>\n",
       "      <th>deaths</th>\n",
       "      <th>clinic</th>\n",
       "      <th>Proportion of Deaths</th>\n",
       "    </tr>\n",
       "  </thead>\n",
       "  <tbody>\n",
       "    <tr>\n",
       "      <th>6</th>\n",
       "      <td>1841</td>\n",
       "      <td>2442</td>\n",
       "      <td>86</td>\n",
       "      <td>clinic 2</td>\n",
       "      <td>0.035217</td>\n",
       "    </tr>\n",
       "    <tr>\n",
       "      <th>7</th>\n",
       "      <td>1842</td>\n",
       "      <td>2659</td>\n",
       "      <td>202</td>\n",
       "      <td>clinic 2</td>\n",
       "      <td>0.075968</td>\n",
       "    </tr>\n",
       "    <tr>\n",
       "      <th>8</th>\n",
       "      <td>1843</td>\n",
       "      <td>2739</td>\n",
       "      <td>164</td>\n",
       "      <td>clinic 2</td>\n",
       "      <td>0.059876</td>\n",
       "    </tr>\n",
       "    <tr>\n",
       "      <th>9</th>\n",
       "      <td>1844</td>\n",
       "      <td>2956</td>\n",
       "      <td>68</td>\n",
       "      <td>clinic 2</td>\n",
       "      <td>0.023004</td>\n",
       "    </tr>\n",
       "    <tr>\n",
       "      <th>10</th>\n",
       "      <td>1845</td>\n",
       "      <td>3241</td>\n",
       "      <td>66</td>\n",
       "      <td>clinic 2</td>\n",
       "      <td>0.020364</td>\n",
       "    </tr>\n",
       "    <tr>\n",
       "      <th>11</th>\n",
       "      <td>1846</td>\n",
       "      <td>3754</td>\n",
       "      <td>105</td>\n",
       "      <td>clinic 2</td>\n",
       "      <td>0.027970</td>\n",
       "    </tr>\n",
       "  </tbody>\n",
       "</table>\n",
       "</div>"
      ],
      "text/plain": [
       "    year  births  deaths    clinic  Proportion of Deaths\n",
       "6   1841    2442      86  clinic 2              0.035217\n",
       "7   1842    2659     202  clinic 2              0.075968\n",
       "8   1843    2739     164  clinic 2              0.059876\n",
       "9   1844    2956      68  clinic 2              0.023004\n",
       "10  1845    3241      66  clinic 2              0.020364\n",
       "11  1846    3754     105  clinic 2              0.027970"
      ]
     },
     "execution_count": 10,
     "metadata": {},
     "output_type": "execute_result"
    }
   ],
   "source": [
    "clinic_2"
   ]
  },
  {
   "cell_type": "markdown",
   "id": "2976e530",
   "metadata": {},
   "source": [
    "#### Step 5: Data Visualization\n",
    "Visualize the effect of handwashing on reducing mortality rates using Matplotlib or Seaborn. Create line charts or other visualizations that help convey the impact of handwashing over time."
   ]
  },
  {
   "cell_type": "code",
   "execution_count": 12,
   "id": "4843801f",
   "metadata": {},
   "outputs": [
    {
     "data": {
      "text/plain": [
       "Text(0, 0.5, 'Number of Deaths')"
      ]
     },
     "execution_count": 12,
     "metadata": {},
     "output_type": "execute_result"
    },
    {
     "data": {
      "image/png": "[encoded data removed]",
      "text/plain": [
       "<Figure size 720x288 with 1 Axes>"
      ]
     },
     "metadata": {
      "needs_background": "light"
     },
     "output_type": "display_data"
    }
   ],
   "source": [
    "#Visualize the Number of deaths every year in clinic 1\n",
    "fig,ax = plt.subplots(figsize = (10,4))\n",
    "plt.bar(clinic_1.year, clinic_1.deaths, width= 0.6, color= \"purple\")\n",
    "plt.title(\"Clinic 1: Number of Deaths per Year\", fontsize=16)\n",
    "plt.xlabel(\"Year\", fontsize=14)\n",
    "plt.ylabel(\"Number of Deaths\", fontsize=14)"
   ]
  },
  {
   "cell_type": "code",
   "execution_count": 15,
   "id": "1f477546",
   "metadata": {},
   "outputs": [
    {
     "data": {
      "text/plain": [
       "Text(0, 0.5, 'Number of Deaths')"
      ]
     },
     "execution_count": 15,
     "metadata": {},
     "output_type": "execute_result"
    },
    {
     "data": {
      "image/png": "[encoded data removed]",
      "text/plain": [
       "<Figure size 720x288 with 1 Axes>"
      ]
     },
     "metadata": {
      "needs_background": "light"
     },
     "output_type": "display_data"
    }
   ],
   "source": [
    "#Visualize the Number of deaths every year in clinic 2\n",
    "fig,ax = plt.subplots(figsize = (10,4))\n",
    "plt.bar(clinic_2.year, clinic_2.deaths, width= 0.6, color= \"red\")\n",
    "plt.title(\"Clinic 2: Number of Deaths per Year\", fontsize=16)\n",
    "plt.xlabel(\"Year\", fontsize=14)\n",
    "plt.ylabel(\"Number of Deaths\", fontsize=14)"
   ]
  },
  {
   "cell_type": "markdown",
   "id": "b28c2299",
   "metadata": {},
   "source": [
    "#### Insights:\n",
    "It seems that 1842 was a pretty hectic year in both clinic 1 & 2 where the numbers of deaths were 518 and 202 respectively"
   ]
  },
  {
   "cell_type": "code",
   "execution_count": 16,
   "id": "79945096",
   "metadata": {},
   "outputs": [
    {
     "data": {
      "text/plain": [
       "<AxesSubplot:xlabel='year', ylabel='Proportion of Deaths'>"
      ]
     },
     "execution_count": 16,
     "metadata": {},
     "output_type": "execute_result"
    },
    {
     "data": {
      "image/png": "[encoded data removed]",
      "text/plain": [
       "<Figure size 432x288 with 1 Axes>"
      ]
     },
     "metadata": {
      "needs_background": "light"
     },
     "output_type": "display_data"
    }
   ],
   "source": [
    "# Plot the proportion of deaths in clinic 1 and 2\n",
    "ax= clinic_1.plot(x= \"year\", y= \"Proportion of Deaths\", label= \"clinic_1\", color=\"red\")\n",
    "clinic_2.plot(x= \"year\", y= \"Proportion of Deaths\", label= \"clinic_2\", ax=ax, ylabel= \"Proportion of Deaths\", color=\"green\")"
   ]
  },
  {
   "cell_type": "markdown",
   "id": "dadfd33b",
   "metadata": {},
   "source": [
    "#### Insights:\n",
    "By looking further into why this happened, Dr Semmelweis realized that many medical students worked at clinic 1 who also as a part of their study, spend a lot of time in the autopsy room. So, he realized that dealing with corpses spread bacteria that would be transferred to the women giving birth, infecting them with the deadly childbed fever, which was the main reason for the high mortality rates."
   ]
  },
  {
   "cell_type": "markdown",
   "id": "afc6ef5f",
   "metadata": {},
   "source": [
    "### 2. Analysis on Monthly Data"
   ]
  },
  {
   "cell_type": "markdown",
   "id": "d7fa8d7b",
   "metadata": {},
   "source": [
    "#### Step 2: Data Loading\n",
    "Start by reading the dataset and displaying the records to understand its structure. This step involves loading the data into a Pandas DataFrame and checking the first few rows to get a sense of the data."
   ]
  },
  {
   "cell_type": "code",
   "execution_count": 17,
   "id": "4a9b0dde",
   "metadata": {},
   "outputs": [
    {
     "data": {
      "text/html": [
       "<div>\n",
       "<style scoped>\n",
       "    .dataframe tbody tr th:only-of-type {\n",
       "        vertical-align: middle;\n",
       "    }\n",
       "\n",
       "    .dataframe tbody tr th {\n",
       "        vertical-align: top;\n",
       "    }\n",
       "\n",
       "    .dataframe thead th {\n",
       "        text-align: right;\n",
       "    }\n",
       "</style>\n",
       "<table border=\"1\" class=\"dataframe\">\n",
       "  <thead>\n",
       "    <tr style=\"text-align: right;\">\n",
       "      <th></th>\n",
       "      <th>date</th>\n",
       "      <th>births</th>\n",
       "      <th>deaths</th>\n",
       "    </tr>\n",
       "  </thead>\n",
       "  <tbody>\n",
       "    <tr>\n",
       "      <th>0</th>\n",
       "      <td>1841-01-01</td>\n",
       "      <td>254</td>\n",
       "      <td>37</td>\n",
       "    </tr>\n",
       "    <tr>\n",
       "      <th>1</th>\n",
       "      <td>1841-02-01</td>\n",
       "      <td>239</td>\n",
       "      <td>18</td>\n",
       "    </tr>\n",
       "    <tr>\n",
       "      <th>2</th>\n",
       "      <td>1841-03-01</td>\n",
       "      <td>277</td>\n",
       "      <td>12</td>\n",
       "    </tr>\n",
       "    <tr>\n",
       "      <th>3</th>\n",
       "      <td>1841-04-01</td>\n",
       "      <td>255</td>\n",
       "      <td>4</td>\n",
       "    </tr>\n",
       "    <tr>\n",
       "      <th>4</th>\n",
       "      <td>1841-05-01</td>\n",
       "      <td>255</td>\n",
       "      <td>2</td>\n",
       "    </tr>\n",
       "  </tbody>\n",
       "</table>\n",
       "</div>"
      ],
      "text/plain": [
       "         date  births  deaths\n",
       "0  1841-01-01     254      37\n",
       "1  1841-02-01     239      18\n",
       "2  1841-03-01     277      12\n",
       "3  1841-04-01     255       4\n",
       "4  1841-05-01     255       2"
      ]
     },
     "execution_count": 17,
     "metadata": {},
     "output_type": "execute_result"
    }
   ],
   "source": [
    "# Read the monthly dataset\n",
    "monthly_df = pd.read_csv(\"monthly_deaths.csv\")\n",
    "monthly_df.head(5)"
   ]
  },
  {
   "cell_type": "markdown",
   "id": "829506a6",
   "metadata": {},
   "source": [
    "#### Step 3: Data Exploration\n",
    "Explore the relationship between variables over different periods. Focus on understanding the variables related to mortality rates and factors like handwashing."
   ]
  },
  {
   "cell_type": "code",
   "execution_count": 18,
   "id": "2008cd54",
   "metadata": {},
   "outputs": [
    {
     "name": "stdout",
     "output_type": "stream",
     "text": [
      "<class 'pandas.core.frame.DataFrame'>\n",
      "RangeIndex: 98 entries, 0 to 97\n",
      "Data columns (total 3 columns):\n",
      " #   Column  Non-Null Count  Dtype \n",
      "---  ------  --------------  ----- \n",
      " 0   date    98 non-null     object\n",
      " 1   births  98 non-null     int64 \n",
      " 2   deaths  98 non-null     int64 \n",
      "dtypes: int64(2), object(1)\n",
      "memory usage: 2.4+ KB\n"
     ]
    }
   ],
   "source": [
    "monthly_df.info()"
   ]
  },
  {
   "cell_type": "code",
   "execution_count": 19,
   "id": "4f246d34",
   "metadata": {},
   "outputs": [
    {
     "data": {
      "text/html": [
       "<div>\n",
       "<style scoped>\n",
       "    .dataframe tbody tr th:only-of-type {\n",
       "        vertical-align: middle;\n",
       "    }\n",
       "\n",
       "    .dataframe tbody tr th {\n",
       "        vertical-align: top;\n",
       "    }\n",
       "\n",
       "    .dataframe thead th {\n",
       "        text-align: right;\n",
       "    }\n",
       "</style>\n",
       "<table border=\"1\" class=\"dataframe\">\n",
       "  <thead>\n",
       "    <tr style=\"text-align: right;\">\n",
       "      <th></th>\n",
       "      <th>date</th>\n",
       "      <th>births</th>\n",
       "      <th>deaths</th>\n",
       "      <th>Proportion of Deaths</th>\n",
       "    </tr>\n",
       "  </thead>\n",
       "  <tbody>\n",
       "    <tr>\n",
       "      <th>0</th>\n",
       "      <td>1841-01-01</td>\n",
       "      <td>254</td>\n",
       "      <td>37</td>\n",
       "      <td>0.145669</td>\n",
       "    </tr>\n",
       "    <tr>\n",
       "      <th>1</th>\n",
       "      <td>1841-02-01</td>\n",
       "      <td>239</td>\n",
       "      <td>18</td>\n",
       "      <td>0.075314</td>\n",
       "    </tr>\n",
       "    <tr>\n",
       "      <th>2</th>\n",
       "      <td>1841-03-01</td>\n",
       "      <td>277</td>\n",
       "      <td>12</td>\n",
       "      <td>0.043321</td>\n",
       "    </tr>\n",
       "    <tr>\n",
       "      <th>3</th>\n",
       "      <td>1841-04-01</td>\n",
       "      <td>255</td>\n",
       "      <td>4</td>\n",
       "      <td>0.015686</td>\n",
       "    </tr>\n",
       "    <tr>\n",
       "      <th>4</th>\n",
       "      <td>1841-05-01</td>\n",
       "      <td>255</td>\n",
       "      <td>2</td>\n",
       "      <td>0.007843</td>\n",
       "    </tr>\n",
       "  </tbody>\n",
       "</table>\n",
       "</div>"
      ],
      "text/plain": [
       "         date  births  deaths  Proportion of Deaths\n",
       "0  1841-01-01     254      37              0.145669\n",
       "1  1841-02-01     239      18              0.075314\n",
       "2  1841-03-01     277      12              0.043321\n",
       "3  1841-04-01     255       4              0.015686\n",
       "4  1841-05-01     255       2              0.007843"
      ]
     },
     "execution_count": 19,
     "metadata": {},
     "output_type": "execute_result"
    }
   ],
   "source": [
    "#Calculate the proportion of deaths per month\n",
    "monthly_df[\"Proportion of Deaths\"]= monthly_df[\"deaths\"] / monthly_df[\"births\"]\n",
    "monthly_df.head(5)"
   ]
  },
  {
   "cell_type": "markdown",
   "id": "99438f4b",
   "metadata": {},
   "source": [
    "#### Insight:\n",
    "Dr Semmelweis ordered the doctors to wash their hands and made it obligatory in the summer of 1847 to see if that will affect the number of deaths, and since we have the monthly data now, we can trace the number of deaths before and after the handwashing started."
   ]
  },
  {
   "cell_type": "markdown",
   "id": "3efd21f7",
   "metadata": {},
   "source": [
    "#### Step 4: Data Analysis\n",
    "Perform calculations to create new variables comparing mortality rates before and after the implementation of handwashing. This will involve computing mortality rates and comparing them across different periods."
   ]
  },
  {
   "cell_type": "code",
   "execution_count": 20,
   "id": "be77ef99",
   "metadata": {},
   "outputs": [],
   "source": [
    "#Change the data type of \"date\" column from string to datatime\n",
    "monthly_df.dtypes\n",
    "monthly_df['date'] =  pd.to_datetime(monthly_df['date'])"
   ]
  },
  {
   "cell_type": "code",
   "execution_count": 21,
   "id": "9429c74a",
   "metadata": {},
   "outputs": [],
   "source": [
    "# Label the date at which handwashing started to \"start_handwashing\"\n",
    "start_handwashing = pd.to_datetime('1847-06-01')\n",
    "\n",
    "# Split monthly into before and after handwashing_start\n",
    "before_washing = monthly_df[monthly_df[\"date\"] < start_handwashing]\n",
    "after_washing = monthly_df[monthly_df[\"date\"] >= start_handwashing]"
   ]
  },
  {
   "cell_type": "markdown",
   "id": "e73b56d6",
   "metadata": {},
   "source": [
    "#### Step 5: Data Visualization\n",
    "Visualize the effect of handwashing on reducing mortality rates using Matplotlib or Seaborn. Create line charts or other visualizations that help convey the impact of handwashing over time."
   ]
  },
  {
   "cell_type": "code",
   "execution_count": 24,
   "id": "b222ce5c",
   "metadata": {},
   "outputs": [
    {
     "data": {
      "text/plain": [
       "Text(0, 0.5, 'Proportion of Deaths')"
      ]
     },
     "execution_count": 24,
     "metadata": {},
     "output_type": "execute_result"
    },
    {
     "data": {
      "image/png": "[encoded data removed]",
      "text/plain": [
       "<Figure size 720x288 with 1 Axes>"
      ]
     },
     "metadata": {
      "needs_background": "light"
     },
     "output_type": "display_data"
    }
   ],
   "source": [
    "# Before Handwashing¶\n",
    "fig,ax = plt.subplots(figsize = (10,4))\n",
    "x= before_washing[\"date\"]\n",
    "y= before_washing[\"Proportion of Deaths\"]\n",
    "plt.plot(x, y, color= \"Red\")\n",
    "plt.title(\"Before Handwashing\", fontsize=16)\n",
    "plt.xlabel(\"Date\", fontsize=14)\n",
    "plt.ylabel(\"Proportion of Deaths\", fontsize=14)"
   ]
  },
  {
   "cell_type": "code",
   "execution_count": 25,
   "id": "e5855a85",
   "metadata": {},
   "outputs": [
    {
     "data": {
      "text/plain": [
       "Text(0, 0.5, 'Proportion of Deaths')"
      ]
     },
     "execution_count": 25,
     "metadata": {},
     "output_type": "execute_result"
    },
    {
     "data": {
      "image/png": "[encoded data removed]",
      "text/plain": [
       "<Figure size 720x288 with 1 Axes>"
      ]
     },
     "metadata": {
      "needs_background": "light"
     },
     "output_type": "display_data"
    }
   ],
   "source": [
    "# After Handwashing¶\n",
    "fig,ax = plt.subplots(figsize = (10,4))\n",
    "x= after_washing[\"date\"]\n",
    "y= after_washing[\"Proportion of Deaths\"]\n",
    "plt.plot(x, y, color= \"green\")\n",
    "plt.title(\"After Handwashing\", fontsize=16)\n",
    "plt.xlabel(\"Date\", fontsize=14)\n",
    "plt.ylabel(\"Proportion of Deaths\", fontsize=14)"
   ]
  },
  {
   "cell_type": "code",
   "execution_count": 26,
   "id": "6aa2183d",
   "metadata": {},
   "outputs": [
    {
     "data": {
      "text/plain": [
       "<AxesSubplot:xlabel='date', ylabel='Proportion deaths'>"
      ]
     },
     "execution_count": 26,
     "metadata": {},
     "output_type": "execute_result"
    },
    {
     "data": {
      "image/png": "[encoded data removed]",
      "text/plain": [
       "<Figure size 432x288 with 1 Axes>"
      ]
     },
     "metadata": {
      "needs_background": "light"
     },
     "output_type": "display_data"
    }
   ],
   "source": [
    "# To see the difference clearly, let's combine the 2 plots in one chart.\n",
    "ax= before_washing.plot(x= \"date\", y= \"Proportion of Deaths\", label= \"Before Handwashing\", color=\"orange\")\n",
    "after_washing.plot(x= \"date\", y= \"Proportion of Deaths\", label= \"After Handwashing\", ax=ax, \n",
    "                   ylabel= \"Proportion deaths\", color=\"green\") "
   ]
  },
  {
   "cell_type": "markdown",
   "id": "6a29675d",
   "metadata": {},
   "source": [
    "#### Insights\n",
    "The difference is pretty clear! the proportion of deaths dramatically decreased after handwashing was made obligatory."
   ]
  },
  {
   "cell_type": "code",
   "execution_count": 27,
   "id": "3d433456",
   "metadata": {},
   "outputs": [
    {
     "data": {
      "text/plain": [
       "0.10504998260908793"
      ]
     },
     "execution_count": 27,
     "metadata": {},
     "output_type": "execute_result"
    }
   ],
   "source": [
    "# Let's calculate exactly how much did handwashing decreased the proportion of deaths on average.\n",
    "before_proportion = before_washing[\"Proportion of Deaths\"]\n",
    "after_proportion = after_washing[\"Proportion of Deaths\"]\n",
    "before_proportion.mean()"
   ]
  },
  {
   "cell_type": "code",
   "execution_count": 28,
   "id": "dd9622d5",
   "metadata": {},
   "outputs": [
    {
     "data": {
      "text/plain": [
       "0.021093375097254535"
      ]
     },
     "execution_count": 28,
     "metadata": {},
     "output_type": "execute_result"
    }
   ],
   "source": [
    "after_proportion.mean()"
   ]
  },
  {
   "cell_type": "code",
   "execution_count": 29,
   "id": "9a0984be",
   "metadata": {},
   "outputs": [
    {
     "data": {
      "text/plain": [
       "-0.0839566075118334"
      ]
     },
     "execution_count": 29,
     "metadata": {},
     "output_type": "execute_result"
    }
   ],
   "source": [
    "# Calculate the difference between both proportions\n",
    "mean_diff = after_proportion.mean() - before_proportion.mean()\n",
    "mean_diff"
   ]
  },
  {
   "cell_type": "markdown",
   "id": "6a7457bc",
   "metadata": {},
   "source": [
    "### Conclusion:\n",
    "### The minus sign indicate that there is a decrease. So handwashing decreased the proportion of deaths from 10% to 2% i.e, by approximately 8%."
   ]
  },
  {
   "cell_type": "code",
   "execution_count": null,
   "id": "c99a14c2",
   "metadata": {},
   "outputs": [],
   "source": []
  }
 ],
 "metadata": {
  "kernelspec": {
   "display_name": "Python 3 (ipykernel)",
   "language": "python",
   "name": "python3"
  },
  "language_info": {
   "codemirror_mode": {
    "name": "ipython",
    "version": 3
   },
   "file_extension": ".py",
   "mimetype": "text/x-python",
   "name": "python",
   "nbconvert_exporter": "python",
   "pygments_lexer": "ipython3",
   "version": "3.9.7"
  }
 },
 "nbformat": 4,
 "nbformat_minor": 5
}
